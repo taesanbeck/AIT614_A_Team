{
 "cells": [
  {
   "cell_type": "code",
   "execution_count": 2,
   "metadata": {},
   "outputs": [
    {
     "name": "stdout",
     "output_type": "stream",
     "text": [
      "I am the UNIVERSE!!!\n"
     ]
    }
   ],
   "source": [
    "print (\"I am the UNIVERSE!!!\")\n"
   ]
  },
  {
   "cell_type": "code",
   "execution_count": 3,
   "metadata": {},
   "outputs": [],
   "source": [
    "from exif import Image"
   ]
  },
  {
   "cell_type": "code",
   "execution_count": 4,
   "metadata": {},
   "outputs": [],
   "source": [
    "with open('104001008C6ECD_Donesk_R1C1.jpg', 'rb') as image_file:\n",
    "    my_image = Image(image_file)"
   ]
  },
  {
   "cell_type": "code",
   "execution_count": 5,
   "metadata": {},
   "outputs": [
    {
     "data": {
      "text/plain": [
       "True"
      ]
     },
     "execution_count": 5,
     "metadata": {},
     "output_type": "execute_result"
    }
   ],
   "source": [
    "my_image.has_exif"
   ]
  },
  {
   "cell_type": "code",
   "execution_count": 6,
   "metadata": {},
   "outputs": [
    {
     "data": {
      "text/plain": [
       "['copyright', '_exif_ifd_pointer', 'user_comment']"
      ]
     },
     "execution_count": 6,
     "metadata": {},
     "output_type": "execute_result"
    }
   ],
   "source": [
    "my_image.list_all()"
   ]
  },
  {
   "cell_type": "code",
   "execution_count": 14,
   "metadata": {},
   "outputs": [
    {
     "name": "stdout",
     "output_type": "stream",
     "text": [
      "Error: Image size (261832704 pixels) exceeds limit of 178956970 pixels, could be decompression bomb DOS attack.\n"
     ]
    }
   ],
   "source": [
    "from PIL import Image, ImageFile\n",
    "from PIL.ExifTags import TAGS\n",
    "\n",
    "def get_exif_metadata(image_path):\n",
    "    try:\n",
    "        # Increase the limit for image size\n",
    "        ImageFile.MAX_IMAGE_PIXELS = None\n",
    "\n",
    "        # Open the image file\n",
    "        image = Image.open(image_path)\n",
    "\n",
    "        # Resize the image to a smaller dimension\n",
    "        max_dimension = 2048  # You can adjust this value to your preference\n",
    "        image.thumbnail((max_dimension, max_dimension))\n",
    "\n",
    "        # Check if the image has EXIF data\n",
    "        if hasattr(image, '_getexif'):\n",
    "            exif_info = image._getexif()\n",
    "            if exif_info:\n",
    "                # Iterate through the EXIF data and print it\n",
    "                for tag, value in exif_info.items():\n",
    "                    tag_name = TAGS.get(tag, tag)\n",
    "                    print(f\"{tag_name}: {value}\")\n",
    "\n",
    "    except Exception as e:\n",
    "        print(f\"Error: {str(e)}\")\n",
    "\n",
    "if __name__ == \"__main__\":\n",
    "    # Replace 'image_path.jpg' with the actual path to your Worldview imagery JPG file\n",
    "    image_path = \"104001008C6ECD_Donesk_R1C1.jpg\"\n",
    "    get_exif_metadata(image_path)"
   ]
  },
  {
   "cell_type": "code",
   "execution_count": 15,
   "metadata": {},
   "outputs": [
    {
     "name": "stdout",
     "output_type": "stream",
     "text": [
      "Collecting pyexiv2\n",
      "  Downloading pyexiv2-2.8.3-cp310-none-manylinux2014_x86_64.whl (1.5 MB)\n",
      "\u001b[2K     \u001b[90m━━━━━━━━━━━━━━━━━━━━━━━━━━━━━━━━━━━━━━━━\u001b[0m \u001b[32m1.5/1.5 MB\u001b[0m \u001b[31m9.1 MB/s\u001b[0m eta \u001b[36m0:00:00\u001b[0m:00:01\u001b[0m00:01\u001b[0m\n",
      "\u001b[?25hInstalling collected packages: pyexiv2\n",
      "Successfully installed pyexiv2-2.8.3\n",
      "\u001b[33mWARNING: Running pip as the 'root' user can result in broken permissions and conflicting behaviour with the system package manager. It is recommended to use a virtual environment instead: https://pip.pypa.io/warnings/venv\u001b[0m\u001b[33m\n",
      "\u001b[0mNote: you may need to restart the kernel to use updated packages.\n"
     ]
    }
   ],
   "source": []
  },
  {
   "cell_type": "code",
   "execution_count": 19,
   "metadata": {},
   "outputs": [
    {
     "name": "stdout",
     "output_type": "stream",
     "text": [
      "Error: module 'pyexiv2' has no attribute 'ImageMetadata'\n"
     ]
    }
   ],
   "source": [
    "import pyexiv2\n",
    "\n",
    "def get_exif_metadata(image_path):\n",
    "    try:\n",
    "        metadata = pyexiv2.ImageMetadata(image_path)\n",
    "        metadata.read()\n",
    "\n",
    "        for tag in metadata.exif_keys:\n",
    "            print(f\"{tag}: {metadata[tag].value}\")\n",
    "\n",
    "    except Exception as e:\n",
    "        print(f\"Error: {str(e)}\")\n",
    "\n",
    "if __name__ == \"__main__\":\n",
    "    # Replace 'image_path.jpg' with the actual path to your Worldview imagery JPG file\n",
    "    image_path = \"104001008C6ECD_DoneskG_R1C1.tif\"\n",
    "    get_exif_metadata(image_path)"
   ]
  },
  {
   "cell_type": "code",
   "execution_count": 22,
   "metadata": {},
   "outputs": [
    {
     "name": "stdout",
     "output_type": "stream",
     "text": [
      "The image has no EXIF data.\n"
     ]
    }
   ],
   "source": [
    "from exif import Image\n",
    "\n",
    "with open('104001008C6ECD_DoneskG_R1C1.tif', 'rb') as image_file:\n",
    "    image = Image(image_file)\n",
    "    if image.has_exif:\n",
    "        for tag in image.list_all():\n",
    "            print(f\"{tag}: {getattr(image, tag)}\")\n",
    "    else:\n",
    "        print(\"The image has no EXIF data.\")"
   ]
  },
  {
   "cell_type": "code",
   "execution_count": 23,
   "metadata": {},
   "outputs": [
    {
     "name": "stdout",
     "output_type": "stream",
     "text": [
      "Driver: GTiff / GeoTIFF\n",
      "Size is 15981 x 16384 x 3\n",
      "AREA_OR_POINT: Area\n",
      "TIFFTAG_COPYRIGHT: Image Copyright 2023 DigitalGlobe Inc\n",
      "TIFFTAG_RESOLUTIONUNIT: 1 (unitless)\n",
      "TIFFTAG_XRESOLUTION: 1\n",
      "TIFFTAG_YRESOLUTION: 1\n"
     ]
    }
   ],
   "source": [
    "from osgeo import gdal\n",
    "\n",
    "# Open the dataset\n",
    "dataset = gdal.Open('104001008C6ECD_DoneskG_R1C1.tif', gdal.GA_ReadOnly)\n",
    "\n",
    "# Print some general information\n",
    "print(\"Driver:\", dataset.GetDriver().ShortName, \"/\", dataset.GetDriver().LongName)\n",
    "print(\"Size is\", dataset.RasterXSize, \"x\", dataset.RasterYSize, \"x\", dataset.RasterCount)\n",
    "\n",
    "# Get the metadata\n",
    "metadata = dataset.GetMetadata()\n",
    "for key, value in metadata.items():\n",
    "    print(f\"{key}: {value}\")\n",
    "\n",
    "    "
   ]
  },
  {
   "cell_type": "code",
   "execution_count": 24,
   "metadata": {},
   "outputs": [
    {
     "name": "stdout",
     "output_type": "stream",
     "text": [
      "AREA_OR_POINT: Area\n",
      "TIFFTAG_COPYRIGHT: Image Copyright 2023 DigitalGlobe Inc\n",
      "TIFFTAG_RESOLUTIONUNIT: 1 (unitless)\n",
      "TIFFTAG_XRESOLUTION: 1\n",
      "TIFFTAG_YRESOLUTION: 1\n"
     ]
    }
   ],
   "source": [
    "from osgeo import gdal\n",
    "\n",
    "# Open the image dataset\n",
    "dataset = gdal.Open('104001008C6ECD_DoneskG_R1C1.tif')\n",
    "\n",
    "# Get metadata\n",
    "metadata = dataset.GetMetadata()\n",
    "\n",
    "# Print all metadata for inspection\n",
    "for key, value in metadata.items():\n",
    "    print(f\"{key}: {value}\")"
   ]
  },
  {
   "cell_type": "code",
   "execution_count": 33,
   "metadata": {},
   "outputs": [
    {
     "name": "stdout",
     "output_type": "stream",
     "text": [
      "ICHIP_ANAMORPH_CORR: 0\n"
     ]
    },
    {
     "ename": "NameError",
     "evalue": "name 'tre_metadata' is not defined",
     "output_type": "error",
     "traceback": [
      "\u001b[0;31m---------------------------------------------------------------------------\u001b[0m",
      "\u001b[0;31mNameError\u001b[0m                                 Traceback (most recent call last)",
      "\u001b[1;32m/home/AIT614/AIT614_A_Team/notebooks/jon.ipynb Cell 12\u001b[0m line \u001b[0;36m1\n\u001b[1;32m     <a href='vscode-notebook-cell://wsl%2Bubuntu/home/AIT614/AIT614_A_Team/notebooks/jon.ipynb#X14sdnNjb2RlLXJlbW90ZQ%3D%3D?line=9'>10</a>\u001b[0m \u001b[39mfor\u001b[39;00m key, value \u001b[39min\u001b[39;00m metadata\u001b[39m.\u001b[39mitems():\n\u001b[1;32m     <a href='vscode-notebook-cell://wsl%2Bubuntu/home/AIT614/AIT614_A_Team/notebooks/jon.ipynb#X14sdnNjb2RlLXJlbW90ZQ%3D%3D?line=10'>11</a>\u001b[0m     \u001b[39mprint\u001b[39m(\u001b[39mf\u001b[39m\u001b[39m\"\u001b[39m\u001b[39m{\u001b[39;00mkey\u001b[39m}\u001b[39;00m\u001b[39m: \u001b[39m\u001b[39m{\u001b[39;00mvalue\u001b[39m}\u001b[39;00m\u001b[39m\"\u001b[39m)\n\u001b[0;32m---> <a href='vscode-notebook-cell://wsl%2Bubuntu/home/AIT614/AIT614_A_Team/notebooks/jon.ipynb#X14sdnNjb2RlLXJlbW90ZQ%3D%3D?line=14'>15</a>\u001b[0m     \u001b[39mfor\u001b[39;00m key, value \u001b[39min\u001b[39;00m tre_metadata\u001b[39m.\u001b[39mitems():\n\u001b[1;32m     <a href='vscode-notebook-cell://wsl%2Bubuntu/home/AIT614/AIT614_A_Team/notebooks/jon.ipynb#X14sdnNjb2RlLXJlbW90ZQ%3D%3D?line=15'>16</a>\u001b[0m         \u001b[39mprint\u001b[39m(\u001b[39mf\u001b[39m\u001b[39m\"\u001b[39m\u001b[39m{\u001b[39;00mkey\u001b[39m}\u001b[39;00m\u001b[39m: \u001b[39m\u001b[39m{\u001b[39;00mvalue\u001b[39m}\u001b[39;00m\u001b[39m\"\u001b[39m)\n",
      "\u001b[0;31mNameError\u001b[0m: name 'tre_metadata' is not defined"
     ]
    }
   ],
   "source": [
    "from osgeo import gdal\n",
    "\n",
    "# Open the NITF dataset\n",
    "dataset = gdal.Open('23SEP25084831-S3DMR2C5.NTF')\n",
    "\n",
    "# Get metadata\n",
    "metadata = dataset.GetMetadata()\n",
    "\n",
    "# Print all metadata for inspection\n",
    "for key, value in metadata.items():\n",
    "    print(f\"{key}: {value}\")\n",
    "\n",
    "\n",
    "\n",
    "    for key, value in tre_metadata.items():\n",
    "        print(f\"{key}: {value}\")"
   ]
  },
  {
   "cell_type": "code",
   "execution_count": 34,
   "metadata": {},
   "outputs": [
    {
     "name": "stdout",
     "output_type": "stream",
     "text": [
      "GEOLOB: 103925485103925485+038.0827540875+048.1943265444\n",
      "GEOPSB: GEODEGWorld Geodetic System 1984                                                      WGE World Geodetic System 1984                                                      WE Geodetic                                                                        GEOD                                                                                    000000000000000                                                                                   0000\n",
      "ICHIPB: 000000.98544000000000000.50000000000.50000000000.50000002295.50000016383.50000000000.50000016383.50000002295.50000016384.50000065536.50000016384.50000067831.50000032767.50000065536.50000032767.50000067831.5000013464100068230\n",
      "J2KLRA: 0050000301900000.03125000100.06250000200.12500000300.25000000400.50000000500.60000000600.70000000700.80000000800.90000000901.00000001001.10000001101.20000001201.30000001301.50000001401.70000001502.00000001602.30000001703.50000001803.900000\n",
      "PIAIMC: 000YPUSHBROOM   WV03_VNIR         DigitalGlobe Acquired Imagery                                                                                                                                                                                                                                  00                                          1N  00015.2WGEWE 2G  00000000\n",
      "STDIDC: 20230925084831WV03_VNIR     99000AA00000 00100001AA06600131UP    4815N03758E             \n",
      "USE00A: 270015.2 00255                                                       0099999001134641            +40.9169.6\n"
     ]
    }
   ],
   "source": [
    "from osgeo import gdal\n",
    "\n",
    "# Open the NITF dataset\n",
    "dataset = gdal.Open('23SEP25084831-S3DMR2C5.NTF')\n",
    "\n",
    "# If the dataset is None, then the file path is likely incorrect or the file format isn't supported\n",
    "if dataset is None:\n",
    "    print(\"Failed to open dataset. Check the file path and format.\")\n",
    "else:\n",
    "    # Extract TRE metadata from the NITF dataset\n",
    "    tre_metadata = dataset.GetMetadata('TRE')\n",
    "    \n",
    "    # Print metadata line by line\n",
    "    for key, value in tre_metadata.items():\n",
    "        print(f\"{key}: {value}\")\n",
    "\n",
    "    # Optionally write the metadata to a file for thorough inspection\n",
    "    with open('metadata_output.txt', 'w') as f:\n",
    "        for key, value in tre_metadata.items():\n",
    "            f.write(f\"{key}: {value}\\n\")\n",
    "\n",
    "# Close the dataset\n",
    "if dataset:\n",
    "    dataset = None"
   ]
  },
  {
   "cell_type": "code",
   "execution_count": 48,
   "metadata": {},
   "outputs": [
    {
     "name": "stdout",
     "output_type": "stream",
     "text": [
      "Producer: WV03_VNIR\n",
      "Date/TimeStamp of image: 2023-09-25 08:48:31\n",
      "Latitude/Longitude: 4815N/03758E  \n",
      "Image ID: WV03_VNIR\n"
     ]
    }
   ],
   "source": [
    "from osgeo import gdal\n",
    "\n",
    "# Open the NITF dataset\n",
    "dataset = gdal.Open('23SEP25084831-S3DMR2C5.NTF')\n",
    "\n",
    "# If the dataset is None, then the file path is likely incorrect or the file format isn't supported\n",
    "if dataset is None:\n",
    "    print(\"Failed to open dataset. Check the file path and format.\")\n",
    "else:\n",
    "    # Extract TRE metadata from the NITF dataset\n",
    "    tre_metadata = dataset.GetMetadata('TRE')\n",
    "\n",
    "    # Parse the necessary information\n",
    "    stdidc = tre_metadata.get('STDIDC', '')\n",
    "    \n",
    "    # Extract timestamp\n",
    "    timestamp = stdidc[0:14]\n",
    "    formatted_timestamp = f\"{timestamp[:4]}-{timestamp[4:6]}-{timestamp[6:8]} {timestamp[8:10]}:{timestamp[10:12]}:{timestamp[12:14]}\"\n",
    "    \n",
    "    # Extract geolocation in raw format\n",
    "    raw_lat = stdidc[65:70]\n",
    "    raw_long = stdidc[70:78]\n",
    "    \n",
    "    # Print the formatted metadata\n",
    "    print(f\"Producer: {tre_metadata.get('PIAIMC', 'Unknown').split()[1]}\")\n",
    "    print(f\"Date/TimeStamp of image: {formatted_timestamp}\")\n",
    "    print(f\"Latitude/Longitude: {raw_lat}/{raw_long}\")\n",
    "    print(f\"Image ID: {stdidc[14:26].strip()}\") \n",
    "\n",
    "# Close the dataset\n",
    "if dataset:\n",
    "    dataset = None"
   ]
  }
 ],
 "metadata": {
  "kernelspec": {
   "display_name": "Python 3",
   "language": "python",
   "name": "python3"
  },
  "language_info": {
   "codemirror_mode": {
    "name": "ipython",
    "version": 3
   },
   "file_extension": ".py",
   "mimetype": "text/x-python",
   "name": "python",
   "nbconvert_exporter": "python",
   "pygments_lexer": "ipython3",
   "version": "3.10.12"
  }
 },
 "nbformat": 4,
 "nbformat_minor": 2
}
