{
 "cells": [
  {
   "cell_type": "code",
   "execution_count": 2,
   "metadata": {},
   "outputs": [],
   "source": [
    "import sys\n",
    "sys.path.append(\"/home/taesanbeck/.local/AIT614/AIT614_A_Team\")\n",
    "\n",
    "\n",
    "\n"
   ]
  },
  {
   "cell_type": "code",
   "execution_count": 3,
   "metadata": {},
   "outputs": [
    {
     "name": "stdout",
     "output_type": "stream",
     "text": [
      "{'File DateTime': '20231024013315', 'Image DateTime': '20230925084831', 'Acquisition Date': '20230925084831', 'Coord Representation': 'G', 'Geo Location': '481140N0380458E481140N0380527E480815N0380527E480815N0380458E', 'Std ID Location': '4815N03758E', 'Image ID': 'M08C6ECD00', 'Image Source': 'WV03_VNIR', 'Mean GSD': '00015.2', 'Sensor Mode': 'PUSHBROOM', 'Sensor Name': 'WV03_VNIR', 'Angle to North': '270', 'Mean Ground Sample Distance': '015.2', 'Sun Azimuth': '169.6', 'Sun Elevation': '+40.9'}\n"
     ]
    },
    {
     "data": {
      "text/plain": [
       "15"
      ]
     },
     "execution_count": 3,
     "metadata": {},
     "output_type": "execute_result"
    }
   ],
   "source": [
    "from utils import extract_ntf_metadata as db\n",
    "\n",
    "# Pull the meta data from a nitf\n",
    "properties = db.extract_nitf_metadata(\"./23SEP25084831-S3DMR2C5.NTF\")\n",
    "print(properties)\n",
    "\n",
    "len(properties)"
   ]
  },
  {
   "cell_type": "code",
   "execution_count": null,
   "metadata": {},
   "outputs": [],
   "source": [
    "#from database.db import David_db as db\n",
    "\n",
    "# test nitf to JPG function\n",
    "#new_jpg = db.nitf_to_jpg(\"./23SEP25084831-S3DMR2C5.NTF\",jpg_path=\"/home/taesanbeck/.local/AIT614/AIT614_A_Team/objects/saved_img/nitif_jpg.jpg\")"
   ]
  },
  {
   "cell_type": "code",
   "execution_count": 4,
   "metadata": {},
   "outputs": [],
   "source": [
    "import numpy as np\n",
    "import math\n",
    "\n",
    "# Let's do MATH!\n",
    "\n",
    "def find_bbox_centroid(xmin, ymin, xmax, ymax):\n",
    "    # find the centroid of a bounding box\n",
    "    xcoord = (xmax+xmin)/2\n",
    "    ycoord = (ymax+ymin)/2\n",
    "\n",
    "    return xcoord, ycoord\n",
    "\n",
    "def find_distance_bbox(b1xmin, b1ymin, b1xmax, b1ymax, b2xmin, b2ymin, b2xmax, b2ymax):\n",
    "    # find the euclidean distance between the centroids of two bounding boxes\n",
    "    b1_centroid = find_bbox_centroid(b1xmin, b1ymin, b1xmax, b1ymax)\n",
    "    b2_centroid = find_bbox_centroid(b2xmin, b2ymin, b2xmax, b2ymax)\n",
    "    euclid_distance = np.linalg.norm(b1_centroid-b2_centroid)\n",
    "\n",
    "    return euclid_distance\n",
    "\n",
    "def find_angle(p1x, p1y, p2x, p2y):\n",
    "    # find the angle in degrees of a line between point 1 and point 2\n",
    "    dx = p2x - p1x\n",
    "    dy = p2y - p1y\n",
    "\n",
    "    radians = math.atan2(dy, dx)\n",
    "    degrees = np.rad2deg(radians)\n",
    "\n",
    "    if 315 <= degrees < 360 or 0 <= degrees < 45:\n",
    "        direction = 'above'\n",
    "    if 45 <= degrees < 135:\n",
    "        direction = 'to the right'\n",
    "    if 135 <= degrees < 225:\n",
    "        direction = 'below'\n",
    "    if 225 <= degrees < 315:\n",
    "        direction = 'to the left'\n",
    "\n",
    "    return degrees, direction\n",
    "\n",
    "def find_quadrant(image, x, y):\n",
    "    # given an image and a point determine which part of the image the point is in\n",
    "    # 123\n",
    "    # 456\n",
    "    # 789\n",
    "    xmin = 0\n",
    "    xmax = image.width - 1\n",
    "    ymin = 0\n",
    "    ymax = image.height - 1\n",
    "    if xmax % 3 == 0:\n",
    "        xhash1 = xmax/3\n",
    "        xhash2 = xhash1*2\n",
    "    else:\n",
    "        xhash1 = (xmax-(xmax%3))/3\n",
    "        xhash2 = xhash1*2\n",
    "    if ymax %3 == 0:\n",
    "        yhash1 = ymax/3\n",
    "        yhash2 = yhash1*2\n",
    "    else:\n",
    "        yhash1 = (ymax-(ymax%3))/3\n",
    "        yhash2 = yhash1*2\n",
    "    if x < xhash1:\n",
    "        xpos = 'left'\n",
    "    if xhash1 <= x <= xhash2:\n",
    "        xpos = 'middle'\n",
    "    if xhash2 < x <= xmax:\n",
    "        xpos = 'right'\n",
    "    if y < yhash1:\n",
    "        ypos = 'top'\n",
    "    if yhash1 <= y <= yhash2:\n",
    "        ypos = 'middle'\n",
    "    if yhash2 < y < ymax:\n",
    "        ypos = 'bottom'\n",
    "    pos = ypos + ' ' + xpos\n",
    "    if pos == 'middle middle':\n",
    "        return 'center'\n",
    "    else:\n",
    "        return pos"
   ]
  },
  {
   "cell_type": "code",
   "execution_count": 11,
   "metadata": {},
   "outputs": [],
   "source": [
    "from ultralytics import YOLO\n",
    "from PIL import Image\n",
    "import os\n",
    "import cv2\n",
    "\n",
    "import numpy as np\n",
    "import streamlit as st\n",
    "\n",
    "os.environ[\"KMP_DUPLICATE_LIB_OK\"] = \"True\"\n",
    "\n",
    "def standalone_yolo(image, confidence, save_img, image_name):\n",
    "    model=YOLO('yolov8n_du_map22.pt') # will download the model if it isn't already there\n",
    "    detection = model.predict(image, conf=confidence)\n",
    "    output = [{'class': box.cls.item(), 'class_name': detection[0].names[box.cls.item()],\n",
    "               'xyxy': box.xyxy.tolist()[0], 'conf': box.conf.item()} for box in detection[0].boxes]\n",
    "    i = 0\n",
    "    while i < len(output):\n",
    "        for object in output:\n",
    "            object.update({'id': str(i)})\n",
    "            i+=1\n",
    "    if save_img == False:\n",
    "        result_image = image\n",
    "    if save_img == True:\n",
    "        if not os.path.exists(os.path.join('objects', 'saved_img')):\n",
    "            os.mkdir(os.path.join('objects', 'saved_img'))\n",
    "        raw_output = detection[0].plot(pil=True)\n",
    "        output_filename = os.path.join('objects', 'saved_img', 'predict_'+os.path.splitext(image_name)[0]+'.png')\n",
    "        cv2.imwrite(output_filename, raw_output)\n",
    "        result_image = Image.open(output_filename)\n",
    "\n",
    "    for object in output:\n",
    "        centroid = find_bbox_centroid(object['xyxy'][0], object['xyxy'][1], object['xyxy'][2], object['xyxy'][3])\n",
    "        location = find_quadrant(image, centroid[0], centroid[1])\n",
    "        object.update({'location': location, 'centroid': (centroid[0], centroid[1])})\n",
    "\n",
    "    return output, result_image\n",
    "\n",
    "def output_class_list(olist):\n",
    "    # get only the class predictions as human readable names\n",
    "    return [o['class_name'] for o in olist]\n",
    "\n",
    "def output_class_list_w_meta(olist):\n",
    "    # return human readable names plus fun stuff\n",
    "    return [o['class_name']+' at '+o['location'] for o in olist]\n",
    "\n",
    "def run_yolo8(image_input, image_name, bounding_box_option, confidence_level):\n",
    "    # Run the YOLO model on the image\n",
    "    if bounding_box_option == 'Yes':\n",
    "        results, image_output = standalone_yolo(image_input, confidence=confidence_level, save_img=True, image_name=image_name)\n",
    "    if bounding_box_option == 'No':\n",
    "        results, image_output = standalone_yolo(image_input, confidence=confidence_level, save_img=False, image_name=image_name)\n",
    "\n",
    "    st.image(image_output, caption='Uploaded Image', use_column_width=True)  # Display the uploaded image\n",
    "    \n",
    "    return results, image_output # Return labels as a list and the raw results as a list of dicts"
   ]
  },
  {
   "cell_type": "code",
   "execution_count": null,
   "metadata": {},
   "outputs": [],
   "source": [
    "from ultralytics import YOLO\n",
    "\n",
    "model = YOLO('yolov8n.pt')  # load an official model"
   ]
  },
  {
   "cell_type": "code",
   "execution_count": null,
   "metadata": {},
   "outputs": [],
   "source": [
    "import sys\n",
    "print(sys.executable)\n"
   ]
  },
  {
   "cell_type": "code",
   "execution_count": null,
   "metadata": {},
   "outputs": [],
   "source": [
    "%pip install --upgrade ultralytics\n"
   ]
  },
  {
   "cell_type": "code",
   "execution_count": 14,
   "metadata": {},
   "outputs": [],
   "source": [
    "import sys\n",
    "sys.path.append('./ultralytics/yolo')\n",
    "import ultralytics.utils\n"
   ]
  },
  {
   "cell_type": "code",
   "execution_count": 15,
   "metadata": {},
   "outputs": [],
   "source": [
    "# Load a model\n",
    "model = YOLO('yolov8n_du_map22.pt')  # load a custom model"
   ]
  },
  {
   "cell_type": "code",
   "execution_count": 16,
   "metadata": {},
   "outputs": [],
   "source": [
    "import os\n",
    "if not os.path.exists('objects/saved_img'):\n",
    "    os.makedirs('objects/saved_img')\n"
   ]
  },
  {
   "cell_type": "code",
   "execution_count": 18,
   "metadata": {},
   "outputs": [
    {
     "name": "stderr",
     "output_type": "stream",
     "text": [
      "\n",
      "0: 640x96 (no detections), 36.4ms\n",
      "Speed: 1.9ms preprocess, 36.4ms inference, 0.8ms postprocess per image at shape (1, 3, 640, 96)\n"
     ]
    },
    {
     "data": {
      "text/plain": [
       "([], <PIL.PngImagePlugin.PngImageFile image mode=RGB size=2296x16384>)"
      ]
     },
     "execution_count": 18,
     "metadata": {},
     "output_type": "execute_result"
    }
   ],
   "source": [
    "from osgeo import gdal\n",
    "import numpy as np\n",
    "from PIL import Image\n",
    "import ultralytics\n",
    "\n",
    "\n",
    "# Path to the NITF file\n",
    "ntf_file_path = \"./23SEP25084831-S3DMR2C5.NTF\"\n",
    "\n",
    "# Use GDAL to read the NITF file\n",
    "ntf_dataset = gdal.Open(ntf_file_path)\n",
    "\n",
    "# Get the number of bands in the NITF file\n",
    "num_bands = ntf_dataset.RasterCount\n",
    "\n",
    "# If the image has multiple bands, we need to handle each band separately\n",
    "if num_bands > 1:\n",
    "    # Create an empty list to store each band's data\n",
    "    bands_data = []\n",
    "    \n",
    "    # Read each band's data and append it to the list\n",
    "    for b in range(num_bands):\n",
    "        band = ntf_dataset.GetRasterBand(b + 1)  # GDAL uses 1-based index\n",
    "        bands_data.append(band.ReadAsArray())\n",
    "    \n",
    "    # Stack the bands data along the third axis (color channels)\n",
    "    ntf_image = np.dstack(bands_data)\n",
    "else:\n",
    "    # If there's only one band, we can read it directly\n",
    "    ntf_image = ntf_dataset.ReadAsArray()\n",
    "\n",
    "# Convert the NITF image data to a format that PIL can handle\n",
    "image_data = Image.fromarray(np.uint8(ntf_image))\n",
    "\n",
    "# Now you can use this image_data as an input to your YOLO model\n",
    "image_name = \"23SEP25084831-S3DMR2C5.NTF\"\n",
    "bounding_box_option = 'Yes'\n",
    "\n",
    "run_yolo8(image_data, image_name, bounding_box_option, confidence_level=0.1)"
   ]
  }
 ],
 "metadata": {
  "kernelspec": {
   "display_name": "Python 3",
   "language": "python",
   "name": "python3"
  },
  "language_info": {
   "codemirror_mode": {
    "name": "ipython",
    "version": 3
   },
   "file_extension": ".py",
   "mimetype": "text/x-python",
   "name": "python",
   "nbconvert_exporter": "python",
   "pygments_lexer": "ipython3",
   "version": "3.10.12"
  }
 },
 "nbformat": 4,
 "nbformat_minor": 2
}
